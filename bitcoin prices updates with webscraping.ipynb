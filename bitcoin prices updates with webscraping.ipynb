{
 "cells": [
  {
   "cell_type": "code",
   "execution_count": null,
   "id": "e9859d48",
   "metadata": {},
   "outputs": [
    {
     "name": "stdout",
     "output_type": "stream",
     "text": [
      "❌ Failed to fetch data: 400\n"
     ]
    }
   ],
   "source": [
    "import requests\n",
    "import csv\n",
    "from datetime import datetime\n",
    "\n",
    "# Start and current date\n",
    "start_date = datetime(2025, 3, 15)\n",
    "current_date = datetime.today()\n",
    "\n",
    "# Calculate the number of days\n",
    "days_difference = (current_date - start_date).days\n",
    "\n",
    "\n",
    "# Fetch OHLC data for Bitcoin from CoinGecko for the past 1 day\n",
    "url = 'https://api.coingecko.com/api/v3/coins/bitcoin/ohlc'\n",
    "params = {\n",
    "    'vs_currency': 'usd',\n",
    "    'days': days_difference  # 1 = past 24h\n",
    "}\n",
    "\n",
    "response = requests.get(url, params=params)\n",
    "\n",
    "if response.status_code == 200:\n",
    "    ohlc_data = response.json()\n",
    "    \n",
    "    # Create and write to CSV\n",
    "    with open(r\"D:\\data science projects\\project 2 unfinished\\bitcoin_ohlc.csv\", mode='w', newline='') as file:\n",
    "        writer = csv.writer(file)\n",
    "        writer.writerow(['Date', 'Open', 'High', 'Low', 'Close'])\n",
    "        \n",
    "        for row in ohlc_data:\n",
    "            timestamp_ms = row[0]\n",
    "            date = datetime.utcfromtimestamp(timestamp_ms / 1000).strftime('%Y-%m-%d')\n",
    "            open_price, high_price, low_price, close_price = row[1:]\n",
    "            writer.writerow([date, open_price, high_price, low_price, close_price])\n",
    "    \n",
    "    print(\"✅ Data saved to bitcoin_ohlc.csv with formatted dates.\")\n",
    "else:\n",
    "    print(f\"❌ Failed to fetch data: {response.status_code}\")\n"
   ]
  },
  {
   "cell_type": "code",
   "execution_count": 1,
   "id": "0be33abd",
   "metadata": {},
   "outputs": [
    {
     "name": "stdout",
     "output_type": "stream",
     "text": [
      "✅ Data saved to bitcoin_ohlc_10min.csv with 10-minute intervals.\n"
     ]
    },
    {
     "name": "stderr",
     "output_type": "stream",
     "text": [
      "C:\\Users\\HP - Victus\\AppData\\Local\\Temp\\ipykernel_1868\\1130560335.py:27: DeprecationWarning: datetime.datetime.utcfromtimestamp() is deprecated and scheduled for removal in a future version. Use timezone-aware objects to represent datetimes in UTC: datetime.datetime.fromtimestamp(timestamp, datetime.UTC).\n",
      "  datetime_str = datetime.utcfromtimestamp(timestamp_ms / 1000).strftime('%Y-%m-%d %H:%M')\n"
     ]
    }
   ],
   "source": [
    "import requests\n",
    "import csv\n",
    "from datetime import datetime\n",
    "\n",
    "# Fetch OHLC data for Bitcoin from CoinGecko (5-minute interval for past 24h)\n",
    "url = 'https://api.coingecko.com/api/v3/coins/bitcoin/ohlc'\n",
    "params = {\n",
    "    'vs_currency': 'usd',\n",
    "    'days': 1  # gives 5-minute interval data\n",
    "}\n",
    "\n",
    "response = requests.get(url, params=params)\n",
    "\n",
    "if response.status_code == 200:\n",
    "    ohlc_data = response.json()\n",
    "    \n",
    "    # Simulate 10-minute intervals by skipping every other row\n",
    "    ohlc_10min = ohlc_data[::2]\n",
    "    \n",
    "    # Save to CSV\n",
    "    with open(\"C:\\\\Users\\\\HP - Victus\\\\OneDrive\\\\Documents\\\\Desktop\\\\bitcoin_ohlc_10min.csv\", mode='w', newline='') as file:\n",
    "        writer = csv.writer(file)\n",
    "        writer.writerow(['DateTime', 'Open', 'High', 'Low', 'Close'])\n",
    "        \n",
    "        for row in ohlc_10min:\n",
    "            timestamp_ms = row[0]\n",
    "            datetime_str = datetime.utcfromtimestamp(timestamp_ms / 1000).strftime('%Y-%m-%d %H:%M')\n",
    "            open_price, high_price, low_price, close_price = row[1:]\n",
    "            writer.writerow([datetime_str, open_price, high_price, low_price, close_price])\n",
    "    \n",
    "    print(\"✅ Data saved to bitcoin_ohlc_10min.csv with 10-minute intervals.\")\n",
    "else:\n",
    "    print(f\"❌ Failed to fetch data: {response.status_code}\")\n"
   ]
  },
  {
   "cell_type": "code",
   "execution_count": 9,
   "id": "f2de69f5",
   "metadata": {},
   "outputs": [
    {
     "name": "stdout",
     "output_type": "stream",
     "text": [
      "✅ Data saved to bitcoin_ohlc.csv with formatted dates.\n"
     ]
    },
    {
     "name": "stderr",
     "output_type": "stream",
     "text": [
      "C:\\Users\\HP - Victus\\AppData\\Local\\Temp\\ipykernel_14724\\3576145793.py:36: DeprecationWarning: datetime.datetime.utcfromtimestamp() is deprecated and scheduled for removal in a future version. Use timezone-aware objects to represent datetimes in UTC: datetime.datetime.fromtimestamp(timestamp, datetime.UTC).\n",
      "  date = datetime.utcfromtimestamp(timestamp_ms / 1000).strftime('%Y-%m-%d %H:%M:%S')\n"
     ]
    }
   ],
   "source": [
    "import requests\n",
    "import csv\n",
    "from datetime import datetime\n",
    "\n",
    "# Define start and end dates\n",
    "start_date = datetime(2025, 3, 15)\n",
    "end_date = datetime.today()\n",
    "\n",
    "# Convert to UNIX timestamps (in seconds)\n",
    "start_timestamp = int(start_date.timestamp())\n",
    "end_timestamp = int(end_date.timestamp())\n",
    "\n",
    "# Fetch OHLC data for Bitcoin from CoinGecko\n",
    "url = 'https://api.coingecko.com/api/v3/coins/bitcoin/market_chart/range'\n",
    "params = {\n",
    "    'vs_currency': 'usd',\n",
    "    'from': start_timestamp,\n",
    "    'to': end_timestamp\n",
    "}\n",
    "\n",
    "response = requests.get(url, params=params)\n",
    "\n",
    "if response.status_code == 200:\n",
    "    market_data = response.json()\n",
    "    \n",
    "    # Extract the prices (timestamp, price)\n",
    "    prices = market_data.get('prices', [])\n",
    "    \n",
    "    # Save to CSV\n",
    "    with open(r\"D:\\data science projects\\project 2 unfinished\\bitcoin_ohlc.csv\", mode='w', newline='') as file:\n",
    "        writer = csv.writer(file)\n",
    "        writer.writerow(['Date', 'Price'])\n",
    "        \n",
    "        for row in prices:\n",
    "            timestamp_ms, price = row\n",
    "            date = datetime.utcfromtimestamp(timestamp_ms / 1000).strftime('%Y-%m-%d %H:%M:%S')\n",
    "            writer.writerow([date, price])\n",
    "    \n",
    "    print(\"✅ Data saved to bitcoin_ohlc.csv with formatted dates.\")\n",
    "else:\n",
    "    print(f\"❌ Failed to fetch data: {response.status_code}\")\n"
   ]
  },
  {
   "cell_type": "code",
   "execution_count": null,
   "id": "486164ac",
   "metadata": {},
   "outputs": [],
   "source": []
  }
 ],
 "metadata": {
  "kernelspec": {
   "display_name": "Python 3",
   "language": "python",
   "name": "python3"
  },
  "language_info": {
   "codemirror_mode": {
    "name": "ipython",
    "version": 3
   },
   "file_extension": ".py",
   "mimetype": "text/x-python",
   "name": "python",
   "nbconvert_exporter": "python",
   "pygments_lexer": "ipython3",
   "version": "3.12.7"
  }
 },
 "nbformat": 4,
 "nbformat_minor": 5
}
